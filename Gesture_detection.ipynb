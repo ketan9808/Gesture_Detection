{
 "cells": [
  {
   "cell_type": "code",
   "execution_count": 1,
   "metadata": {},
   "outputs": [],
   "source": [
    "import cv2\n",
    "import numpy as np"
   ]
  },
  {
   "cell_type": "code",
   "execution_count": null,
   "metadata": {},
   "outputs": [],
   "source": [
    "cam = cv2.VideoCapture(0)\n",
    "\n",
    "threshold = 80\n",
    "\n",
    "while 1:\n",
    "    r, image = cam.read()\n",
    "    #cv2.imshow('original image', image)\n",
    "    area = []\n",
    "    image_2 = image[:,:,1]\n",
    "    image_gray = cv2.cvtColor(image, cv2.COLOR_BGR2GRAY)\n",
    "\n",
    "    g = image_2 - image_gray\n",
    "    #cv2.imshow('second layer - gray image', g)\n",
    "\n",
    "    g_4 = cv2.multiply(g, 4)\n",
    "    # diffenence between g*4 and this is that this will limit the value between 0 and 255\n",
    "    #cv2.imshow('g*4', g_4)\n",
    "\n",
    "    R, final_image = cv2.threshold(g_4, threshold, 255, 0)\n",
    "    #cv2.imshow('final image', final_image)\n",
    "    \n",
    "    cnt, r = cv2.findContours(final_image, 0, 1)\n",
    "    # sometime cnt, r, m\n",
    "    # print(cnt)\n",
    "    \n",
    "    for i in cnt:\n",
    "        a = cv2.contourArea(i)\n",
    "        area.append(a)\n",
    "    mx = max(area)\n",
    "    index = area.index(mx)\n",
    "    \n",
    "    if len(cnt)>0:\n",
    "        cv2.drawContours(image, cnt[index], -1, (0,0,255), 1) # -1 means all contours\n",
    "        cv2.imshow('image with contour', image)\n",
    "    # centroid of contour\n",
    "    k = cv2.waitKey(5)\n",
    "    if k == ord('q'):\n",
    "        cv2.destroyAllWindows()\n",
    "        v.release()\n",
    "        break\n",
    "    elif k == ord('i'):\n",
    "        th += 5\n",
    "    elif k == ord('d'):\n",
    "        th -+ 5\n",
    "    elif k == ord('p'):\n",
    "        k = cv2.waitKey(0)"
   ]
  },
  {
   "cell_type": "markdown",
   "metadata": {},
   "source": [
    "# TODO\n",
    "\n",
    "- use moment to find centroid of contour\n",
    "- draw circle on centroid\n",
    "- after this use pynput\n"
   ]
  },
  {
   "cell_type": "code",
   "execution_count": null,
   "metadata": {},
   "outputs": [],
   "source": []
  }
 ],
 "metadata": {
  "kernelspec": {
   "display_name": "Python 3",
   "language": "python3",
   "name": "python3"
  },
  "language_info": {
   "codemirror_mode": {
    "name": "ipython",
    "version": 3
   },
   "file_extension": ".py",
   "mimetype": "text/x-python",
   "name": "python",
   "nbconvert_exporter": "python",
   "pygments_lexer": "ipython3",
   "version": "3.6.9"
  }
 },
 "nbformat": 4,
 "nbformat_minor": 2
}
